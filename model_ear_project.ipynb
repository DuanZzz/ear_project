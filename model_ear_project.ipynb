{
 "cells": [
  {
   "cell_type": "markdown",
   "metadata": {
    "colab_type": "text",
    "id": "_K0f_d4bma4F"
   },
   "source": [
    "## Using TensorBoard"
   ]
  },
  {
   "cell_type": "code",
   "execution_count": null,
   "metadata": {
    "colab": {},
    "colab_type": "code",
    "id": "HguM2dTkkc4D"
   },
   "outputs": [],
   "source": [
    "# !wget https://bin.equinox.io/c/4VmDzA7iaHb/ngrok-stable-linux-amd64.zip\n",
    "# !unzip ngrok-stable-linux-amd64.zip"
   ]
  },
  {
   "cell_type": "code",
   "execution_count": null,
   "metadata": {
    "colab": {},
    "colab_type": "code",
    "id": "NMj5l0kJkizV"
   },
   "outputs": [],
   "source": [
    "# import os\n",
    "# LOG_DIR = 'runs'\n",
    "# os.makedirs(LOG_DIR, exist_ok=True)\n",
    "# get_ipython().system_raw(\n",
    "#     'tensorboard --logdir {} --host 0.0.0.0 --port 6006 &'\n",
    "#     .format(LOG_DIR))"
   ]
  },
  {
   "cell_type": "code",
   "execution_count": 3,
   "metadata": {
    "colab": {},
    "colab_type": "code",
    "id": "2_cQZHoikUcr"
   },
   "outputs": [],
   "source": [
    "# get_ipython().system_raw('./ngrok http 6006 &')"
   ]
  },
  {
   "cell_type": "code",
   "execution_count": 4,
   "metadata": {
    "colab": {},
    "colab_type": "code",
    "id": "YACo-aXFkXfk"
   },
   "outputs": [],
   "source": [
    "# ! curl -s http://localhost:4040/api/tunnels | python3 -c \\\n",
    "#     \"import sys, json; print(json.load(sys.stdin)['tunnels'][0]['public_url'])\""
   ]
  },
  {
   "cell_type": "code",
   "execution_count": 5,
   "metadata": {
    "colab": {},
    "colab_type": "code",
    "id": "gVRAN-7vlFFS"
   },
   "outputs": [],
   "source": [
    "# from torch.utils.tensorboard import SummaryWriter\n",
    "# # load data from loader\n",
    "# images, labels = next(iter(train_dataloader))\n",
    "\n",
    "# images = images.to('cuda')\n",
    "# labels = labels.to('cuda')\n",
    "\n",
    "# tb = SummaryWriter()\n",
    "# tb.add_images(\"Image\", images)\n",
    "# tb.add_graph(net, images)\n",
    "# for i in range(1, 20):\n",
    "#     tb.add_scalar(\"Tag\", 10/i, i)\n",
    "    \n",
    "# tb.close()"
   ]
  },
  {
   "cell_type": "markdown",
   "metadata": {
    "colab_type": "text",
    "id": "WRmBtrj7miZi"
   },
   "source": [
    "## Declaring variables:"
   ]
  },
  {
   "cell_type": "code",
   "execution_count": 6,
   "metadata": {
    "colab": {},
    "colab_type": "code",
    "id": "joH_DyhPGtgv"
   },
   "outputs": [],
   "source": [
    "from __future__ import print_function, division\n",
    "from pathlib import Path\n",
    "import os\n",
    "import torch\n",
    "import pandas as pd\n",
    "from skimage import io, transform\n",
    "import numpy as np\n",
    "import matplotlib.pyplot as plt\n",
    "from torch.utils.data import Dataset, DataLoader, random_split\n",
    "from torchvision import transforms, utils\n",
    "import torchvision\n",
    "import torch.nn as nn\n",
    "import torch.nn.functional as F\n",
    "from IPython.core.debugger import set_trace\n",
    "import cv2\n",
    "from PIL import Image\n",
    "import random\n",
    "\n",
    "# Ignore warnings\n",
    "import warnings\n",
    "warnings.filterwarnings(\"ignore\")\n",
    "\n",
    "plt.ion()   # interactive mode\n",
    "\n",
    "# path = Path('drive/My Drive/Colab/Ear_Project')\n",
    "# if not os.path.exists('./dataset_original/dataset'):\n",
    "#    os.chdir(path)\n",
    "\n",
    "#reproducibility\n",
    "\n",
    "random.seed(420)\n",
    "torch.manual_seed(420)\n",
    "torch.cuda.manual_seed(420)\n",
    "np.random.seed(420)\n",
    "torch.backends.cudnn.deterministic = True\n",
    "torch.backends.cudnn.benchmark = False"
   ]
  },
  {
   "cell_type": "code",
   "execution_count": 40,
   "metadata": {
    "colab": {},
    "colab_type": "code",
    "id": "NG2NldVDwCo-"
   },
   "outputs": [],
   "source": [
    "class AutoCanny():\n",
    "  def __call__(self,sample):\n",
    "    img, label = sample['image'], sample['label']\n",
    "    img = np.asarray(img)\n",
    "    img = cv2.bilateralFilter(img, 4, 70, 110)\n",
    "    img = auto_canny(img)\n",
    "\n",
    "    return {'image': img.astype(np.float32) ,'label': label}\n",
    "\n",
    "class Padding():\n",
    "  def __call__(self,sample):\n",
    "    img, label = sample['image'], sample['label']\n",
    "    w, h = img.size[:2]\n",
    "    pad_width, pad_height = (max(0,h-w), max(0,w-h))\n",
    "\n",
    "    if pad_width % 2 == 0:\n",
    "      pad_right = pad_left = int(pad_width/2)\n",
    "    else:\n",
    "      pad_right = int(pad_width/2)\n",
    "      pad_left = int(pad_width/2) + 1\n",
    "\n",
    "    if pad_height % 2 == 0:\n",
    "      pad_top = pad_bottom = int(pad_height/2)\n",
    "    else:\n",
    "      pad_top = int(pad_height/2)\n",
    "      pad_bottom = int(pad_height/2) + 1\n",
    "\n",
    "    img = transforms.functional.pad(img, padding=(pad_left, pad_top, pad_right, pad_bottom))\n",
    "    \n",
    "\n",
    "    return {'image': img, 'label': label}\n",
    "\n",
    "class Resize():\n",
    "  def __call__(self, sample):\n",
    "    img, label = sample['image'], sample['label']\n",
    "    img = transforms.functional.resize(img, 96)\n",
    "    # set_trace()\n",
    "    # img = np.asarray(img)\n",
    "    # img = cv2.resize(img,(96,96),interpolation = cv2.INTER_AREA)\n",
    "    return {'image': img, 'label': label}\n",
    "\n",
    "class ToTensor(object):\n",
    "  \"\"\"Convert ndarrays in sample to Tensors.\"\"\"\n",
    "\n",
    "  def __call__(self, sample):\n",
    "      img, label = (sample['image'], sample['label'])      \n",
    "      # swap color axis because\n",
    "      # numpy image: H x W x C\n",
    "      # torch image: C X H X W\n",
    "      img = img.reshape(96,96,1)\n",
    "      img = img.transpose((2, 0, 1))\n",
    "      return {'image': torch.from_numpy(img), 'label': torch.from_numpy(label)}\n",
    "\n",
    "class Normalize():\n",
    "  def __init__(self, mean, std, inplace=False):\n",
    "    self.mean = mean\n",
    "    self.std = std\n",
    "    self.inplace = inplace\n",
    "\n",
    "  def __call__(self, sample):\n",
    "    img, label = sample['image'], sample['label']\n",
    "\n",
    "    return transforms.functional.normalize(img, self.mean, self.std, self.inplace), label\n",
    "\n",
    "\n",
    "def auto_canny(image, sigma=0.6):\n",
    "\tv = np.median(image)\n",
    "\tlower = int(max(0, (1.0 - sigma) * v))\n",
    "\tupper = int(min(255, (1.0 + sigma) * v))\n",
    "\tedged = cv2.Canny(image, lower, upper)\n",
    "\n",
    "\treturn edged\n",
    "  #edged.astype(np.float32)\n",
    "\n",
    "\n",
    "def show_batch(batch):\n",
    "  images_batch, label = batch\n",
    "  grid = utils.make_grid(images_batch)\n",
    "  for img in images_batch:\n",
    "    print (img.shape)\n",
    "    print(f'Min pixel value: {torch.min(img)},\\nMax pixel value: {torch.max(img)}')\n",
    "  plt.imshow(grid.numpy().transpose(1,2,0))\n",
    "\n"
   ]
  },
  {
   "cell_type": "code",
   "execution_count": 8,
   "metadata": {
    "colab": {},
    "colab_type": "code",
    "id": "JiCr9hPluqe8"
   },
   "outputs": [],
   "source": [
    "class CNNNet(nn.Module):\n",
    "  def __init__(self):\n",
    "    super(CNNNet, self).__init__()\n",
    "    self.features = nn.Sequential(\n",
    "      nn.Conv2d(1, 16, 3, padding=1),\n",
    "      nn.BatchNorm2d(16),\n",
    "      nn.ReLU(),\n",
    "      nn.MaxPool2d(2, 2),\n",
    "      nn.Conv2d(16, 16, kernel_size=3, padding=1),\n",
    "      nn.BatchNorm2d(16),\n",
    "      nn.ReLU(),\n",
    "      nn.MaxPool2d(kernel_size=2, stride=2),\n",
    "    )\n",
    "    self.classifier = nn.Sequential(\n",
    "      nn.Linear(16*24*24, 1000),\n",
    "      nn.Linear(1000, 100),\n",
    "      nn.Linear(100, 8),\n",
    "    )\n",
    "  def forward(self, x):\n",
    "    x = self.features(x)\n",
    "    x = torch.flatten(x, 1)\n",
    "    x = self.classifier(x)\n",
    "    return x\n",
    "\n",
    "net = CNNNet().cuda()"
   ]
  },
  {
   "cell_type": "code",
   "execution_count": 9,
   "metadata": {
    "colab": {},
    "colab_type": "code",
    "id": "wR0Vq0TwWW3h"
   },
   "outputs": [],
   "source": [
    "def standard(img):\n",
    "  return (img - np.mean(img)) / np.std(img)\n",
    "\n",
    "class EarDataset(Dataset):\n",
    "\n",
    "  def __init__(self, pkl_file, root_dir, transform=None):\n",
    "    self.dataset = pd.read_pickle(pkl_file)\n",
    "    self.root_dir = root_dir\n",
    "    self.transform = transform\n",
    "      \n",
    "  def __len__(self):\n",
    "    return len(self.dataset)\n",
    "\n",
    "\n",
    "  def __getitem__(self, idx):\n",
    "    if torch.is_tensor(idx):\n",
    "      idx = idx.tolist()\n",
    "    \n",
    "    img_name = os.path.join(self.root_dir, self.dataset.iloc[idx, 0])\n",
    "    image = Image.open(img_name)\n",
    "    image = image.convert('L')\n",
    "    label = self.dataset.iloc[idx,1].astype(np.float32)\n",
    "    sample = {'image': image, 'label': label}\n",
    "\n",
    "\n",
    "    if self.transform:\n",
    "      sample = self.transform(sample)\n",
    "    return sample\n",
    "\n",
    "\n",
    "class DatasetFromSubset(Dataset):\n",
    "    def __init__(self, subset, transform=None):\n",
    "        self.subset = subset\n",
    "        self.transform = transform\n",
    "\n",
    "    def __getitem__(self, index):\n",
    "        img, label = self.subset[index]\n",
    "        if self.transform:\n",
    "            img, label = self.transform((img, label))\n",
    "        return img, label\n",
    "\n",
    "    def __len__(self):\n",
    "        return len(self.subset)"
   ]
  },
  {
   "cell_type": "code",
   "execution_count": 10,
   "metadata": {
    "colab": {},
    "colab_type": "code",
    "id": "1RtH4dyTVkpD"
   },
   "outputs": [],
   "source": [
    "transform = transforms.Compose([Padding(),\n",
    "                                Resize(),\n",
    "                                AutoCanny(),\n",
    "                                ToTensor(),\n",
    "                                Normalize([0],[255]),\n",
    "                                ])\n",
    "\n",
    "pkl_file = 'dataset.pkl'\n",
    "\n",
    "root_dir = 'dataset'\n",
    "\n",
    "init_dataset = EarDataset(pkl_file=pkl_file, root_dir=root_dir, transform=None)\n",
    "\n",
    "total_len = len(init_dataset)\n",
    "\n",
    "lengths = [int(0.8*total_len), int(0.1*total_len), int(0.1*total_len)]\n",
    "\n",
    "train_subset, valid_subset, test_subset = random_split(init_dataset, lengths)\n",
    "\n",
    "train_dataset = DatasetFromSubset(train_subset, transform=None)\n",
    "valid_dataset = DatasetFromSubset(valid_subset, transform=None)\n",
    "test_dataset = DatasetFromSubset(test_subset, transform=None)\n",
    "\n",
    "train_dataloader = DataLoader(train_dataset, batch_size=2, shuffle=True)\n",
    "valid_dataloader = DataLoader(valid_dataset, batch_size=2)\n",
    "test_dataloader = DataLoader(test_dataset, batch_size=2)"
   ]
  },
  {
   "cell_type": "code",
   "execution_count": 11,
   "metadata": {
    "colab": {
     "base_uri": "https://localhost:8080/",
     "height": 38
    },
    "colab_type": "code",
    "executionInfo": {
     "elapsed": 17212,
     "status": "ok",
     "timestamp": 1585171555869,
     "user": {
      "displayName": "Túlio Chiodi",
      "photoUrl": "",
      "userId": "17826402515266386932"
     },
     "user_tz": 180
    },
    "id": "8HJ6u47DU14W",
    "outputId": "6d2abcc4-3ff3-4dd2-e416-4cad2b562785"
   },
   "outputs": [
    {
     "data": {
      "text/plain": [
       "[88, 11, 11]"
      ]
     },
     "execution_count": 11,
     "metadata": {},
     "output_type": "execute_result"
    }
   ],
   "source": [
    "lengths"
   ]
  },
  {
   "cell_type": "code",
   "execution_count": 41,
   "metadata": {
    "colab": {
     "base_uri": "https://localhost:8080/",
     "height": 263
    },
    "colab_type": "code",
    "executionInfo": {
     "elapsed": 22437,
     "status": "ok",
     "timestamp": 1585171561104,
     "user": {
      "displayName": "Túlio Chiodi",
      "photoUrl": "",
      "userId": "17826402515266386932"
     },
     "user_tz": 180
    },
    "id": "5Kh6Kt1JQEup",
    "outputId": "88d221e3-7fc0-4a15-a8ab-c21dd1e056c9"
   },
   "outputs": [
    {
     "name": "stdout",
     "output_type": "stream",
     "text": [
      "torch.Size([1, 96, 96])\n",
      "Min pixel value: 0.0,\n",
      "Max pixel value: 1.0\n",
      "torch.Size([1, 96, 96])\n",
      "Min pixel value: 0.0,\n",
      "Max pixel value: 1.0\n"
     ]
    },
    {
     "data": {
      "image/png": "[encoded data removed]",
      "text/plain": [
       "<Figure size 432x288 with 1 Axes>"
      ]
     },
     "metadata": {
      "needs_background": "light"
     },
     "output_type": "display_data"
    }
   ],
   "source": [
    "batch = next(iter(train_dataloader))\n",
    "show_batch(batch)"
   ]
  },
  {
   "cell_type": "code",
   "execution_count": 50,
   "metadata": {},
   "outputs": [
    {
     "name": "stdout",
     "output_type": "stream",
     "text": [
      "torch.Size([1, 96, 96])\n",
      "Min pixel value: 0.0,\n",
      "Max pixel value: 1.0\n",
      "torch.Size([1, 96, 96])\n",
      "Min pixel value: 0.0,\n",
      "Max pixel value: 1.0\n"
     ]
    },
    {
     "data": {
      "image/png": "[encoded data removed]",
      "text/plain": [
       "<Figure size 432x288 with 1 Axes>"
      ]
     },
     "metadata": {
      "needs_background": "light"
     },
     "output_type": "display_data"
    }
   ],
   "source": [
    "batch = next(iter(valid_dataloader))\n",
    "show_batch(batch)"
   ]
  },
  {
   "cell_type": "code",
   "execution_count": 49,
   "metadata": {},
   "outputs": [
    {
     "name": "stdout",
     "output_type": "stream",
     "text": [
      "torch.Size([1, 96, 96])\n",
      "Min pixel value: 0.0,\n",
      "Max pixel value: 1.0\n",
      "torch.Size([1, 96, 96])\n",
      "Min pixel value: 0.0,\n",
      "Max pixel value: 1.0\n"
     ]
    },
    {
     "data": {
      "image/png": "[encoded data removed]",
      "text/plain": [
       "<Figure size 432x288 with 1 Axes>"
      ]
     },
     "metadata": {
      "needs_background": "light"
     },
     "output_type": "display_data"
    }
   ],
   "source": [
    "batch = next(iter(test_dataloader))\n",
    "show_batch(batch)"
   ]
  },
  {
   "cell_type": "code",
   "execution_count": 13,
   "metadata": {
    "colab": {},
    "colab_type": "code",
    "id": "xRu6_H3hObME"
   },
   "outputs": [],
   "source": [
    "# iterator = iter(valid_dataloader)\n",
    "\n",
    "# for a in iterator:\n",
    "#   show_batch(a)"
   ]
  },
  {
   "cell_type": "code",
   "execution_count": 14,
   "metadata": {
    "colab": {},
    "colab_type": "code",
    "id": "KHEMwulgbSBE"
   },
   "outputs": [],
   "source": [
    "def weight_reset(m):\n",
    "    if isinstance(m, nn.Conv2d) or isinstance(m, nn.Linear):\n",
    "        m.reset_parameters()\n",
    "\n",
    "\n",
    "def train(model, optimizer, loss_fn, train_loader, val_loader, epochs=20, device=\"cpu\"):\n",
    "  model.apply(weight_reset)\n",
    "  for epoch in range(epochs):\n",
    "    training_loss = 0.0\n",
    "    valid_loss = 0.0\n",
    "    model.train()\n",
    "    for batch in train_loader:\n",
    "      optimizer.zero_grad()\n",
    "      inputs, target = batch\n",
    "      inputs = inputs.to(device)\n",
    "      target = target.to(device)\n",
    "      output = model(inputs)\n",
    "      loss = loss_fn(output, target)\n",
    "      loss.backward()\n",
    "      optimizer.step()\n",
    "      training_loss += loss.item()\n",
    "      train_error = torch.dist(target, output)\n",
    "    training_loss /= len(train_loader)\n",
    "\n",
    "    model.eval()\n",
    "    num_correct = 0\n",
    "    num_examples = 0\n",
    "    for batch in val_loader:\n",
    "      inputs, targets = batch\n",
    "      inputs = inputs.to(device)\n",
    "      output = model(inputs)\n",
    "      targets = targets.to(device)\n",
    "      loss = loss_fn(output,targets)\n",
    "      valid_loss += loss.item()\n",
    "      val_error = torch.dist(targets, output)\n",
    "    valid_loss /= len(val_loader)\n",
    "\n",
    "    print(f'Epoch: {epoch}, Training Loss: {training_loss}, Validation Loss: {valid_loss}, Train Error = {train_error}, Validation Error = {val_error}')\n"
   ]
  },
  {
   "cell_type": "code",
   "execution_count": 15,
   "metadata": {
    "colab": {
     "base_uri": "https://localhost:8080/",
     "height": 1000
    },
    "colab_type": "code",
    "executionInfo": {
     "elapsed": 119007,
     "status": "ok",
     "timestamp": 1585171657693,
     "user": {
      "displayName": "Túlio Chiodi",
      "photoUrl": "",
      "userId": "17826402515266386932"
     },
     "user_tz": 180
    },
    "id": "x1ARIasobaWh",
    "outputId": "eab38a01-9cd4-47b5-9c8f-9a114730d533"
   },
   "outputs": [
    {
     "name": "stdout",
     "output_type": "stream",
     "text": [
      "Epoch: 0, Training Loss: 0.8349667582660913, Validation Loss: 0.12071205551425616, Train Error = 2.2499048709869385, Validation Error = 0.8921821117401123\n",
      "Epoch: 1, Training Loss: 0.16216742128811099, Validation Loss: 0.15276510020097098, Train Error = 1.2590116262435913, Validation Error = 1.0724183320999146\n",
      "Epoch: 2, Training Loss: 0.09266436112705957, Validation Loss: 0.13117851316928864, Train Error = 0.6430891156196594, Validation Error = 1.105743408203125\n",
      "Epoch: 3, Training Loss: 0.07225791855969212, Validation Loss: 0.17984257265925407, Train Error = 1.1049704551696777, Validation Error = 1.4526392221450806\n",
      "Epoch: 4, Training Loss: 0.06846877941015092, Validation Loss: 0.18465964992841086, Train Error = 1.128463864326477, Validation Error = 1.4940420389175415\n",
      "Epoch: 5, Training Loss: 0.07494380358945239, Validation Loss: 0.16388286463916302, Train Error = 1.3550530672073364, Validation Error = 1.4434536695480347\n",
      "Epoch: 6, Training Loss: 0.07097728753631766, Validation Loss: 0.2359229400753975, Train Error = 1.0569521188735962, Validation Error = 1.6495486497879028\n",
      "Epoch: 7, Training Loss: 0.07246672243557194, Validation Loss: 0.16747562463084856, Train Error = 1.3411505222320557, Validation Error = 1.4357562065124512\n",
      "Epoch: 8, Training Loss: 0.05045134577349844, Validation Loss: 0.20497065782546997, Train Error = 1.0201597213745117, Validation Error = 1.5640190839767456\n",
      "Epoch: 9, Training Loss: 0.038951681376519526, Validation Loss: 0.166240893304348, Train Error = 0.5118392705917358, Validation Error = 1.5032356977462769\n"
     ]
    }
   ],
   "source": [
    "import torch.optim as optim\n",
    "criterion = nn.MSELoss()\n",
    "optimizer = optim.Adam(net.parameters(), lr=0.00005)\n",
    "\n",
    "train(model=net, optimizer=optimizer, loss_fn=criterion,\n",
    "      train_loader=train_dataloader, val_loader=valid_dataloader,\n",
    "      epochs=10, device=\"cuda\")\n"
   ]
  },
  {
   "cell_type": "markdown",
   "metadata": {
    "colab_type": "text",
    "id": "TSHgnF6lqbU4"
   },
   "source": [
    "Epoch: 9, Training Loss: 0.038951681376519526, Validation Loss: 0.166240893304348, Train Error = 0.5118392705917358, Validation Error = 1.5032356977462769\n",
    "\n",
    "Epoch: 49, Training Loss: 0.006912451507311992, Validation Loss: 0.19517305245002112, Train Error = 0.3576761782169342, Validation Error = 1.1172915697097778\n"
   ]
  },
  {
   "cell_type": "code",
   "execution_count": 16,
   "metadata": {
    "colab": {},
    "colab_type": "code",
    "id": "K1FsS8f1Xwxg"
   },
   "outputs": [],
   "source": [
    "# net.eval()\n",
    "# prediction = [net(batch[0].to('cuda')) for batch in test_dataloader]"
   ]
  },
  {
   "cell_type": "code",
   "execution_count": 17,
   "metadata": {
    "colab": {
     "base_uri": "https://localhost:8080/",
     "height": 1000
    },
    "colab_type": "code",
    "executionInfo": {
     "elapsed": 2576,
     "status": "ok",
     "timestamp": 1585167898069,
     "user": {
      "displayName": "Túlio Chiodi",
      "photoUrl": "",
      "userId": "17826402515266386932"
     },
     "user_tz": 180
    },
    "id": "yJklW1RsXiyK",
    "outputId": "895b89a2-eb78-4efc-aaca-bb972194715f"
   },
   "outputs": [],
   "source": [
    "# for item in test_subset:\n",
    "#   print (item)"
   ]
  },
  {
   "cell_type": "code",
   "execution_count": 18,
   "metadata": {
    "colab": {},
    "colab_type": "code",
    "id": "b8wXrDQlSidZ"
   },
   "outputs": [],
   "source": [
    "# ground_truth = [batch[1].to('cuda') for batch in test_dataloader]\n",
    "\n",
    "\n"
   ]
  },
  {
   "cell_type": "code",
   "execution_count": 19,
   "metadata": {
    "colab": {
     "base_uri": "https://localhost:8080/",
     "height": 1000
    },
    "colab_type": "code",
    "executionInfo": {
     "elapsed": 1755,
     "status": "error",
     "timestamp": 1585167482893,
     "user": {
      "displayName": "Túlio Chiodi",
      "photoUrl": "",
      "userId": "17826402515266386932"
     },
     "user_tz": 180
    },
    "id": "jlESmeWQVD2X",
    "outputId": "760736d4-ec29-47f4-c6dd-5ffc33a5ea5b"
   },
   "outputs": [],
   "source": [
    "# ground_truth = []\n",
    "\n",
    "# for batch in test_dataloader:\n",
    "#   for sample in batch:\n",
    "#     print(sample[1])"
   ]
  },
  {
   "cell_type": "code",
   "execution_count": 20,
   "metadata": {
    "colab": {},
    "colab_type": "code",
    "id": "GKp29oE-Qhzx"
   },
   "outputs": [],
   "source": [
    "# net.eval()\n",
    "# prediction = [net(batch[0].to('cuda')) for batch in test_dataloader]"
   ]
  },
  {
   "cell_type": "code",
   "execution_count": 21,
   "metadata": {
    "colab": {},
    "colab_type": "code",
    "id": "w261AUI9Tqhk"
   },
   "outputs": [],
   "source": [
    "# for gt, pred in zip(ground_truth, prediction):\n",
    "#   print (gt.)"
   ]
  },
  {
   "cell_type": "code",
   "execution_count": 22,
   "metadata": {
    "colab": {
     "base_uri": "https://localhost:8080/",
     "height": 380
    },
    "colab_type": "code",
    "executionInfo": {
     "elapsed": 1645,
     "status": "ok",
     "timestamp": 1585166850023,
     "user": {
      "displayName": "Túlio Chiodi",
      "photoUrl": "",
      "userId": "17826402515266386932"
     },
     "user_tz": 180
    },
    "id": "ZAkEKJlDTNmO",
    "outputId": "8142e9ae-69b8-48b6-a338-2e4cae96b0e5"
   },
   "outputs": [],
   "source": [
    "# prediction"
   ]
  },
  {
   "cell_type": "code",
   "execution_count": 23,
   "metadata": {
    "colab": {},
    "colab_type": "code",
    "id": "mzvxDAtB3OIM"
   },
   "outputs": [],
   "source": [
    "# path = 'testset/0051_left.jpg'\n",
    "# target = torch.tensor([1.7321, 0.82316, 1.7177, 1.3736, 5.94, 2.8194, 0.57672, 1.0697]).to('cuda')\n",
    "# image = Image.open(path)\n",
    "# sample_pred = {'image': image, 'label': np.random.randn(8)}\n",
    "# transformed_sample = transform(sample_pred)\n",
    "# print_img = transformed_sample[0]\n",
    "# img = transformed_sample[0].unsqueeze(0).to('cuda')\n",
    "# print(torch.max(img))\n",
    "# prediction = net(img)\n",
    "# error = torch.dist(target, prediction)\n",
    "# print(f'prediction: {prediction}.\\nGround truth: {target}.')\n",
    "# print(error)"
   ]
  },
  {
   "cell_type": "code",
   "execution_count": 24,
   "metadata": {
    "colab": {},
    "colab_type": "code",
    "id": "jbWRzhUXAgN0"
   },
   "outputs": [],
   "source": [
    "# error = [torch.dist(ground_truth, prediction)]\n",
    "# erro = abs(target-prediction)\n",
    "# erro"
   ]
  },
  {
   "cell_type": "code",
   "execution_count": 25,
   "metadata": {
    "colab": {},
    "colab_type": "code",
    "id": "CP3_NNhrDoeE"
   },
   "outputs": [],
   "source": [
    "# erro.sum()"
   ]
  },
  {
   "cell_type": "markdown",
   "metadata": {
    "colab_type": "text",
    "id": "0gSIu55FWR-k"
   },
   "source": [
    "\n",
    "Previsão: 1.8504, 0.4400, 1.5174, 1.2913, 6.1952, 2.9311, 0.4214, 1.0045\n",
    "\n",
    "Valor real: 1.7321\t0.82316\t1.7177\t1.3736\t5.94\t2.8194\t0.57672\t1.0697"
   ]
  },
  {
   "cell_type": "markdown",
   "metadata": {
    "colab_type": "text",
    "id": "TkdZG8CbFY1V"
   },
   "source": [
    "## Treinando vários modelos"
   ]
  },
  {
   "cell_type": "code",
   "execution_count": 26,
   "metadata": {
    "colab": {},
    "colab_type": "code",
    "id": "68K1POGsFbB8"
   },
   "outputs": [],
   "source": [
    "# batch1 = CNNNet().cuda()\n",
    "# optimizer1 = optim.Adam(batch1.parameters(), lr=0.00005)\n",
    "\n",
    "# train_dataloader1 = DataLoader(train_dataset, batch_size=1, shuffle=True)\n",
    "# val_dataloader1 = DataLoader(test_dataset, batch_size=1)\n",
    "\n",
    "# train(model=batch1, optimizer=optimizer1, loss_fn=criterion,\n",
    "#       train_loader=train_dataloader1, val_loader=val_dataloader1,\n",
    "#       epochs=50, device=\"cuda\")"
   ]
  },
  {
   "cell_type": "code",
   "execution_count": 27,
   "metadata": {
    "colab": {},
    "colab_type": "code",
    "id": "ct5icbb8F7EU"
   },
   "outputs": [],
   "source": [
    "# batch2 = CNNNet().cuda()\n",
    "# optimizer2 = optim.Adam(batch2.parameters(), lr=0.00005)\n",
    "\n",
    "# train_dataloader2 = DataLoader(train_dataset, batch_size=2, shuffle=True)\n",
    "# val_dataloader2 = DataLoader(test_dataset, batch_size=2)\n",
    "\n",
    "# train(model=batch2, optimizer=optimizer2, loss_fn=criterion,\n",
    "#       train_loader=train_dataloader2, val_loader=val_dataloader2,\n",
    "#       epochs=50, device=\"cuda\")"
   ]
  },
  {
   "cell_type": "code",
   "execution_count": 28,
   "metadata": {
    "colab": {},
    "colab_type": "code",
    "id": "Jk2A91WOF7UQ"
   },
   "outputs": [],
   "source": [
    "# batch4 = CNNNet().cuda()\n",
    "# optimizer4 = optim.Adam(batch4.parameters(), lr=0.00005)\n",
    "\n",
    "# train_dataloader4 = DataLoader(train_dataset, batch_size=4, shuffle=True)\n",
    "# val_dataloader4 = DataLoader(test_dataset, batch_size=4)\n",
    "\n",
    "# train(model=batch4, optimizer=optimizer4, loss_fn=criterion,\n",
    "#       train_loader=train_dataloader4, val_loader=val_dataloader4,\n",
    "#       epochs=50, device=\"cuda\")"
   ]
  },
  {
   "cell_type": "code",
   "execution_count": 29,
   "metadata": {
    "colab": {},
    "colab_type": "code",
    "id": "CB8WzNFwF7qQ"
   },
   "outputs": [],
   "source": [
    "# batch8 = CNNNet().cuda()\n",
    "# optimizer8 = optim.Adam(batch8.parameters(), lr=0.00005)\n",
    "\n",
    "# train_dataloader8 = DataLoader(train_dataset, batch_size=8, shuffle=True)\n",
    "# val_dataloader8 = DataLoader(test_dataset, batch_size=8)\n",
    "\n",
    "# train(model=batch8, optimizer=optimizer8, loss_fn=criterion,\n",
    "#       train_loader=train_dataloader8, val_loader=val_dataloader8,\n",
    "#       epochs=50, device=\"cuda\")"
   ]
  },
  {
   "cell_type": "code",
   "execution_count": 30,
   "metadata": {
    "colab": {},
    "colab_type": "code",
    "id": "guElSB1LF7zw"
   },
   "outputs": [],
   "source": [
    "# batch16 = CNNNet().cuda()\n",
    "# optimizer16 = optim.Adam(batch16.parameters(), lr=0.00005)\n",
    "\n",
    "# train_dataloader16 = DataLoader(train_dataset, batch_size=16, shuffle=True)\n",
    "# val_dataloader16 = DataLoader(test_dataset, batch_size=16)\n",
    "\n",
    "# train(model=batch16, optimizer=optimizer16, loss_fn=criterion,\n",
    "#       train_loader=train_dataloader16, val_loader=val_dataloader16,\n",
    "#       epochs=50, device=\"cuda\")"
   ]
  },
  {
   "cell_type": "code",
   "execution_count": 31,
   "metadata": {
    "colab": {},
    "colab_type": "code",
    "id": "9hu6wx1ZF78p"
   },
   "outputs": [],
   "source": [
    "# batch32 = CNNNet().cuda()\n",
    "# optimizer32 = optim.Adam(batch32.parameters(), lr=0.00005)\n",
    "\n",
    "# train_dataloader32 = DataLoader(train_dataset, batch_size=32, shuffle=True)\n",
    "# val_dataloader32 = DataLoader(test_dataset, batch_size=32)\n",
    "\n",
    "# train(model=batch32, optimizer=optimizer32, loss_fn=criterion,\n",
    "#       train_loader=train_dataloader32, val_loader=val_dataloader32,\n",
    "#       epochs=200, device=\"cuda\")"
   ]
  },
  {
   "cell_type": "code",
   "execution_count": 32,
   "metadata": {
    "colab": {},
    "colab_type": "code",
    "id": "zxIWZDJTG01S"
   },
   "outputs": [],
   "source": [
    "# prediction1 = batch1(img)\n",
    "# prediction2 = batch2(img)\n",
    "# prediction4 = batch4(img)\n",
    "# prediction8 = batch8(img)\n",
    "# prediction16 = batch16(img)\n",
    "# prediction32 = batch32(img)\n",
    "\n",
    "# erro1 = abs(target-prediction1)\n",
    "# erro2 = abs(target-prediction2)\n",
    "# erro4 = abs(target-prediction4)\n",
    "# erro8 = abs(target-prediction8)\n",
    "# erro16 = abs(target-prediction16)\n",
    "# erro32 = abs(target-prediction32)\n",
    "\n",
    "# print(f'Vetor de erros:\\n1: {erro1}.\\n2: {erro2}.\\n4: {erro4}.\\n8: {erro8}.\\n16: {erro16}.\\n32: {erro32}.')\n",
    "# print(f'Valores absolutos:\\n1: {erro1.sum()}.\\n2: {erro2.sum()}.\\n4: {erro4.sum()}.\\n8: {erro8.sum()}.\\n16: {erro16.sum()}.\\n32: {erro32.sum()}.')"
   ]
  },
  {
   "cell_type": "code",
   "execution_count": 33,
   "metadata": {
    "colab": {},
    "colab_type": "code",
    "id": "xJRkPz9XsOo0"
   },
   "outputs": [],
   "source": [
    "# !pip install onnx\n",
    "# !pip install onnxruntime"
   ]
  },
  {
   "cell_type": "code",
   "execution_count": 34,
   "metadata": {
    "colab": {},
    "colab_type": "code",
    "id": "x0riSBZ1buT6"
   },
   "outputs": [],
   "source": [
    "# import io\n",
    "# import numpy as np\n",
    "\n",
    "# from torch import nn\n",
    "# import torch.utils.model_zoo as model_zoo\n",
    "# import torch.onnx\n",
    "\n",
    "# batch32 = CNNNet().cuda()\n",
    "\n",
    "# batch32.eval()\n",
    "\n",
    "# x = torch.randn(32, 1, 96, 96, requires_grad=True).to('cuda')\n",
    "# torch_out = batch32(x)\n",
    "\n",
    "# # torch.onnx.export(\n",
    "# #     batch32,\n",
    "# #     x,\n",
    "# #     'model.onnx',\n",
    "# #     export_params=True,\n",
    "# # )"
   ]
  },
  {
   "cell_type": "code",
   "execution_count": 35,
   "metadata": {
    "colab": {},
    "colab_type": "code",
    "id": "HEP2Lq5jsxGt"
   },
   "outputs": [],
   "source": [
    "# import onnx\n",
    "\n",
    "# onnx_model = onnx.load(\"model.onnx\")\n",
    "# onnx.checker.check_model(onnx_model)"
   ]
  },
  {
   "cell_type": "code",
   "execution_count": 36,
   "metadata": {
    "colab": {},
    "colab_type": "code",
    "id": "B2aISEYVsz9v"
   },
   "outputs": [],
   "source": [
    "# import onnxruntime\n",
    "\n",
    "# ort_session = onnxruntime.InferenceSession(\"model.onnx\")\n",
    "\n",
    "# def to_numpy(tensor):\n",
    "#     return tensor.detach().cpu().numpy() if tensor.requires_grad else tensor.cpu().numpy()\n",
    "\n",
    "# # compute ONNX Runtime output prediction\n",
    "# ort_inputs = {ort_session.get_inputs()[0].name: to_numpy(x)}\n",
    "# ort_outs = ort_session.run(None, ort_inputs)\n",
    "\n",
    "# # compare ONNX Runtime and PyTorch results\n",
    "# np.testing.assert_allclose(to_numpy(torch_out), ort_outs[0], rtol=1e-03, atol=1e-05)\n",
    "\n",
    "# print(\"Exported model has been tested with ONNXRuntime, and the result looks good!\")"
   ]
  },
  {
   "cell_type": "code",
   "execution_count": null,
   "metadata": {
    "colab": {},
    "colab_type": "code",
    "id": "V75bCZYItEd3"
   },
   "outputs": [],
   "source": []
  }
 ],
 "metadata": {
  "accelerator": "GPU",
  "colab": {
   "authorship_tag": "ABX9TyOOl7/hQnSCpjawR4AGefP+",
   "collapsed_sections": [
    "_K0f_d4bma4F"
   ],
   "mount_file_id": "1leJPjjHUsi01_S2ysSHs9v0WzzgewisD",
   "name": "model_ear_project.ipynb",
   "provenance": []
  },
  "kernelspec": {
   "display_name": "Ear Project",
   "language": "python",
   "name": "ear_project"
  },
  "language_info": {
   "codemirror_mode": {
    "name": "ipython",
    "version": 3
   },
   "file_extension": ".py",
   "mimetype": "text/x-python",
   "name": "python",
   "nbconvert_exporter": "python",
   "pygments_lexer": "ipython3",
   "version": "3.7.6"
  }
 },
 "nbformat": 4,
 "nbformat_minor": 4
}
